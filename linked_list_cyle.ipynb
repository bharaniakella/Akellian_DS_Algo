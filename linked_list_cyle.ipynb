{
  "nbformat": 4,
  "nbformat_minor": 0,
  "metadata": {
    "colab": {
      "provenance": [],
      "authorship_tag": "ABX9TyPZ1HdpjipoMOBsGZQJdu5T",
      "include_colab_link": true
    },
    "kernelspec": {
      "name": "python3",
      "display_name": "Python 3"
    },
    "language_info": {
      "name": "python"
    }
  },
  "cells": [
    {
      "cell_type": "markdown",
      "metadata": {
        "id": "view-in-github",
        "colab_type": "text"
      },
      "source": [
        "<a href=\"https://colab.research.google.com/github/bharaniakella/Akellian_DS_Algo/blob/main/linked_list_cyle.ipynb\" target=\"_parent\"><img src=\"https://colab.research.google.com/assets/colab-badge.svg\" alt=\"Open In Colab\"/></a>"
      ]
    },
    {
      "cell_type": "code",
      "execution_count": null,
      "metadata": {
        "id": "1EMk2G7ZZVe8"
      },
      "outputs": [],
      "source": [
        "class Solution:\n",
        "    def hasCycle(self, head: Optional[ListNode]) -> bool:\n",
        "        if(head is None):\n",
        "            return None\n",
        "\n",
        "        if(head.next is None):\n",
        "            return False\n",
        "\n",
        "        slow=head\n",
        "        fast=head\n",
        "        while(fast is not None and fast.next is not None):\n",
        "            slow=slow.next\n",
        "            fast=fast.next.next\n",
        "            if(slow==fast):\n",
        "                return True\n",
        "\n",
        "        return False\n",
        ""
      ]
    }
  ]
}