{
  "nbformat": 4,
  "nbformat_minor": 0,
  "metadata": {
    "colab": {
      "provenance": [],
      "authorship_tag": "ABX9TyMoUowXG0qDF+gwLcFxnYY2",
      "include_colab_link": true
    },
    "kernelspec": {
      "name": "python3",
      "display_name": "Python 3"
    },
    "language_info": {
      "name": "python"
    }
  },
  "cells": [
    {
      "cell_type": "markdown",
      "metadata": {
        "id": "view-in-github",
        "colab_type": "text"
      },
      "source": [
        "<a href=\"https://colab.research.google.com/github/bharaniakella/Akellian_DS_Algo/blob/main/same_tree.ipynb\" target=\"_parent\"><img src=\"https://colab.research.google.com/assets/colab-badge.svg\" alt=\"Open In Colab\"/></a>"
      ]
    },
    {
      "cell_type": "code",
      "execution_count": null,
      "metadata": {
        "id": "-DAlrjxLVVCV"
      },
      "outputs": [],
      "source": [
        "class Solution(object):\n",
        "    def isSameTree(self, p, q):\n",
        "        if(p is None or q is None):\n",
        "            return p==q\n",
        "\n",
        "        return p.val==q.val and self.isSameTree(p.left,q.left) and self.isSameTree(p.right,q.right)\n",
        "\n",
        "\n",
        ""
      ]
    }
  ]
}